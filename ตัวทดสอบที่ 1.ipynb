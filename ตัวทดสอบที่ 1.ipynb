{
 "cells": [
  {
   "cell_type": "code",
   "execution_count": 1,
   "metadata": {},
   "outputs": [
    {
     "name": "stdout",
     "output_type": "stream",
     "text": [
      "+--------------------+-------------+------------+-------------------+----------+------+--------------------+\n",
      "|                 _id|      address|  department|            general|      name|salary|              social|\n",
      "+--------------------+-------------+------------+-------------------+----------+------+--------------------+\n",
      "|61335a62f6c9d148a...|กรุงเทพมหานคร| ฝ่ายการตลาด| {60.0, 170.0, ชาย}|      ก้อง| 60000|[facebook, line, ...|\n",
      "|6133601501d011636...|       ชลบุรี|โปรแกรมเมอร์| {70.5, 178.6, ชาย}|     สมชาย| 40000|    [facebook, line]|\n",
      "|613362ea01d011636...|กรุงเทพมหานคร|     ฝ่ายขาย|{49.0, 165.0, หญิง}|    สกาวใจ| 15000|    [facebook, line]|\n",
      "|6133640201d011636...|กรุงเทพมหานคร|      วิศวกร| {49.0, 168.0, ชาย}|   ญัฐวุติ| 45000|[facebook, line, ...|\n",
      "|6133643801d011636...|        ระยอง|     ฝ่ายขาย|{49.0, 168.0, หญิง}| สุดารัตน์| 15000|[facebook, line, ...|\n",
      "|613365b101d011636...|        ระยอง|โปรแกรมเมอร์| {52.0, 175.0, ชาย}|    คมกริช| 40000|[facebook, line, ...|\n",
      "|6133673801d011636...|    เชียงใหม่|      วิศวกร| {52.0, 175.0, ชาย}|เกษตรสันต์| 45000|          [facebook]|\n",
      "|61337f4d01d011636...|กรุงเทพมหานคร|     ฝ่ายขาย| {55.0, 169.0, ชาย}|    สมหมาย| 15000|    [facebook, line]|\n",
      "|61337f9e01d011636...|       กระบี่| ฝ่ายการเงิน|{55.0, 165.0, หญิง}|      มะลิ| 18000|    [facebook, line]|\n",
      "|613f378733f480b41...|กรุงเทพมหานคร| ฝ่ายการตลาด| {60.0, 170.0, ชาย}|   วุฒิชัย| 60000|[facebook, line, ...|\n",
      "|613f381333f480b41...|       กระบี่| ฝ่ายการตลาด|{45.0, 169.0, หญิง}|   รุ่งนภา| 75000|[facebook, line, ...|\n",
      "|613f38e833f480b41...|       ชลบุรี|     ฝ่ายขาย|{49.0, 165.0, หญิง}|  ณัฐกานต์| 30000|[facebook, line, ...|\n",
      "|613f392133f480b41...|       ชลบุรี|โปรแกรมเมอร์| {70.5, 178.6, ชาย}|  จักรเพชร| 40000|    [facebook, line]|\n",
      "|613f397f33f480b41...|    เชียงใหม่|โปรแกรมเมอร์| {52.0, 175.0, ชาย}|      สมพร| 45000|          [facebook]|\n",
      "|613f3d1a33f480b41...|       ลพบุรี|โปรแกรมเมอร์|{52.0, 169.0, หญิง}|      แจ๋ม| 40000|[facebook, line, ...|\n",
      "+--------------------+-------------+------------+-------------------+----------+------+--------------------+\n",
      "\n"
     ]
    }
   ],
   "source": [
    "from pyspark.sql import SparkSession\n",
    "\n",
    "# สร้าง SparkSession\n",
    "spark = SparkSession.builder \\\n",
    "    .appName(\"MongoDBIntegration\") \\\n",
    "    .master(\"local\")\\\n",
    "    .config(\"spark.jars\", \n",
    "            r\"C:\\Users\\chopp\\mongo-spark-connector_2.12-10.4.0-all.jar,\"\n",
    "            r\"C:\\Users\\chopp\\mongodb-driver-core-5.2.0-javadoc.jar,\"\n",
    "            r\"C:\\Users\\chopp\\bson-5.2.0-javadoc.jar\") \\\n",
    "    .config(\"spark.mongodb.read.connection.uri\", \"mongodb://localhost:27017/mydb\") \\\n",
    "    .config(\"spark.mongodb.write.connection.uri\", \"mongodb://localhost:27017/mydb\") \\\n",
    "    .getOrCreate()\n",
    "\n",
    "# อ่านข้อมูลจาก MongoDB\n",
    "df = spark.read \\\n",
    ".format(\"mongodb\") \\\n",
    ".option(\"uri\", \"mongodb://localhost:27017/mydb\") \\\n",
    ".option(\"database\", \"mydb\") \\\n",
    ".option(\"collection\", \"employees\") \\\n",
    ".load()\n",
    "df.show()\n"
   ]
  }
 ],
 "metadata": {
  "kernelspec": {
   "display_name": "Python 3",
   "language": "python",
   "name": "python3"
  },
  "language_info": {
   "codemirror_mode": {
    "name": "ipython",
    "version": 3
   },
   "file_extension": ".py",
   "mimetype": "text/x-python",
   "name": "python",
   "nbconvert_exporter": "python",
   "pygments_lexer": "ipython3",
   "version": "3.10.11"
  }
 },
 "nbformat": 4,
 "nbformat_minor": 2
}
